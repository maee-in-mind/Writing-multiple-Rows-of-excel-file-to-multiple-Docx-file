{
 "cells": [
  {
   "cell_type": "code",
   "execution_count": 2,
   "metadata": {},
   "outputs": [],
   "source": [
    "\n",
    "\n",
    "import xlrd\n",
    "from docx import Document\n",
    "document=Document()\n",
    "setence=[]\n",
    "book = xlrd.open_workbook('test1.xlsx')\n",
    "sheet = book.sheet_by_name('abc')\n",
    "for i in range(1,sheet.nrows):\n",
    "    setence.append(sheet.row_values(i))\n",
    "    document.add_paragraph(setence[i-1])\n",
    "    document.save('file{}.docx'.format(i))"
   ]
  },
  {
   "cell_type": "code",
   "execution_count": null,
   "metadata": {},
   "outputs": [],
   "source": []
  },
  {
   "cell_type": "code",
   "execution_count": null,
   "metadata": {},
   "outputs": [],
   "source": []
  }
 ],
 "metadata": {
  "kernelspec": {
   "display_name": "Python 3",
   "language": "python",
   "name": "python3"
  },
  "language_info": {
   "codemirror_mode": {
    "name": "ipython",
    "version": 3
   },
   "file_extension": ".py",
   "mimetype": "text/x-python",
   "name": "python",
   "nbconvert_exporter": "python",
   "pygments_lexer": "ipython3",
   "version": "3.7.1"
  }
 },
 "nbformat": 4,
 "nbformat_minor": 2
}
